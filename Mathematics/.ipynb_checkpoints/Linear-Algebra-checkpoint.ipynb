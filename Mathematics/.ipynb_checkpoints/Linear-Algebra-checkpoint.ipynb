{
 "cells": [
  {
   "cell_type": "markdown",
   "metadata": {},
   "source": [
    "# Linear Algebra\n",
    "\n",
    "The approach of building a set of objects and a set of rules to manipulate said objects is the core foundation on which algebra is based.\n",
    "\n",
    "Linear algebra is the study of the rules of manipulating vectors\n",
    "\n",
    ">Note:\n",
    "$\\vec{a}$ denotes a vector **a**\n",
    "\n",
    "Vectors can be added, multiplied by scalars\n",
    "\n",
    "The two properties that need to be satisfied for an object to be a vector:\n",
    "- Geometric Vectors: Geometric vectors have atleast 2 dimensions(i)"
   ]
  },
  {
   "cell_type": "code",
   "execution_count": null,
   "metadata": {},
   "outputs": [],
   "source": []
  }
 ],
 "metadata": {
  "kernelspec": {
   "display_name": "Python 3",
   "language": "python",
   "name": "python3"
  },
  "language_info": {
   "codemirror_mode": {
    "name": "ipython",
    "version": 3
   },
   "file_extension": ".py",
   "mimetype": "text/x-python",
   "name": "python",
   "nbconvert_exporter": "python",
   "pygments_lexer": "ipython3",
   "version": "3.7.6"
  }
 },
 "nbformat": 4,
 "nbformat_minor": 4
}
