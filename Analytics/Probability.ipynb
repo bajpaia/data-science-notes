{
 "cells": [
  {
   "cell_type": "markdown",
   "metadata": {},
   "source": [
    "# Introduction to Probability\n",
    "\n",
    "## Probability\n",
    "- The measure of likelihood of an occurance.\n",
    "- Must  always be between 0 and 1\n",
    "- Sum of probabilities of mutually exclusive and collectively exhaustive events must always = 1\n",
    "\n",
    "### Methods of assigning Probability\n",
    "- Classical method: Rules and laws\n",
    "- Relative frequency of occurence: Cumulated historical data)\n",
    "- Subjective probability: Intuition or reasoning"
   ]
  },
  {
   "cell_type": "markdown",
   "metadata": {},
   "source": []
  }
 ],
 "metadata": {
  "kernelspec": {
   "display_name": "Python 3",
   "language": "python",
   "name": "python3"
  },
  "language_info": {
   "codemirror_mode": {
    "name": "ipython",
    "version": 3
   },
   "file_extension": ".py",
   "mimetype": "text/x-python",
   "name": "python",
   "nbconvert_exporter": "python",
   "pygments_lexer": "ipython3",
   "version": "3.7.6"
  }
 },
 "nbformat": 4,
 "nbformat_minor": 4
}
